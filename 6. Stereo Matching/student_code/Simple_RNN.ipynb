{
  "nbformat": 4,
  "nbformat_minor": 0,
  "metadata": {
    "colab": {
      "name": "Simple RNN.ipynb",
      "version": "0.3.2",
      "provenance": [],
      "include_colab_link": true
    },
    "kernelspec": {
      "name": "python3",
      "display_name": "Python 3"
    }
  },
  "cells": [
    {
      "cell_type": "markdown",
      "metadata": {
        "id": "view-in-github",
        "colab_type": "text"
      },
      "source": [
        "<a href=\"https://colab.research.google.com/github/shaibagon/GCMex/blob/master/Simple_RNN.ipynb\" target=\"_parent\"><img src=\"https://colab.research.google.com/assets/colab-badge.svg\" alt=\"Open In Colab\"/></a>"
      ]
    },
    {
      "cell_type": "code",
      "metadata": {
        "id": "NtOzD9Prn2H9",
        "colab_type": "code",
        "colab": {}
      },
      "source": [
        "!pip install -q torch"
      ],
      "execution_count": 0,
      "outputs": []
    },
    {
      "cell_type": "code",
      "metadata": {
        "id": "WCDTnjR2oVyo",
        "colab_type": "code",
        "colab": {}
      },
      "source": [
        "import torch\n",
        "import torch.nn as nn\n",
        "import pandas as pd\n",
        "import matplotlib.pyplot as plt\n",
        "import seaborn as sns\n",
        "from tqdm import trange\n",
        "sns.set()"
      ],
      "execution_count": 0,
      "outputs": []
    },
    {
      "cell_type": "markdown",
      "metadata": {
        "id": "CCIqj0Q6oZPW",
        "colab_type": "text"
      },
      "source": [
        "Define A simple recurrent model"
      ]
    },
    {
      "cell_type": "code",
      "metadata": {
        "id": "NCBKUcyyogE_",
        "colab_type": "code",
        "colab": {}
      },
      "source": [
        "class MyRnn(nn.Module):\n",
        "  def __init__(self, in_d=2, out_d=2, hidden_d=4, num_hidden=1):\n",
        "    super(MyRnn, self).__init__()\n",
        "    self.rnn = nn.RNN(input_size=in_d, hidden_size=hidden_d, num_layers=num_hidden)\n",
        "    self.fc = nn.Linear(hidden_d, out_d)\n",
        "\n",
        "  def forward(self, x, h0):\n",
        "    r, h = self.rnn(x, h0)\n",
        "    y = self.fc(r)  # no activation on the output\n",
        "    return y, h"
      ],
      "execution_count": 0,
      "outputs": []
    },
    {
      "cell_type": "markdown",
      "metadata": {
        "id": "_jtxyYAOomXX",
        "colab_type": "text"
      },
      "source": [
        "Define the input sequences, Shape of sequence is `time`x`batch`x`2d`"
      ]
    },
    {
      "cell_type": "code",
      "metadata": {
        "id": "Zk2j5azeoqSO",
        "colab_type": "code",
        "colab": {}
      },
      "source": [
        "s1 = torch.tensor([[4, 15], [4, 14], [4, 13], [4, 12], [4, 11], [4, 10], [4, 9], [4, 8], [4,7], [4, 6], [4, 5], [4, 4], [4, 3], [4, 2]], dtype=torch.float)[:, None, :] \n",
        "s2 = torch.tensor([[4, 15], [5,15],[6,15],[7,15],[8,15],[9,15],[10,15],[11, 15],[12, 15],[12,14],[12,13],[12,12],[12,11],[12,10],[12,9],[12,8],[12,7],[12,6],[12,5]],dtype=torch.float)[:, None, :]\n"
      ],
      "execution_count": 0,
      "outputs": []
    },
    {
      "cell_type": "markdown",
      "metadata": {
        "id": "2Fnmp5-MpDSI",
        "colab_type": "text"
      },
      "source": [
        "Normalize the sequences"
      ]
    },
    {
      "cell_type": "code",
      "metadata": {
        "id": "iH-PngZLpGYo",
        "colab_type": "code",
        "colab": {}
      },
      "source": [
        "x = torch.cat((s1,s2),dim=0)\n",
        "mu = x.mean(dim=0)\n",
        "sig=x.std(dim=0)\n",
        "sequences = [(s1-mu)/sig, (s2-mu)/sig]  # pythonic list to hold sequences of un-even length"
      ],
      "execution_count": 0,
      "outputs": []
    },
    {
      "cell_type": "markdown",
      "metadata": {
        "id": "P6khjCKPpQbf",
        "colab_type": "text"
      },
      "source": [
        "Train the model on both sequences"
      ]
    },
    {
      "cell_type": "code",
      "metadata": {
        "id": "bQs78C_zpTno",
        "colab_type": "code",
        "colab": {
          "base_uri": "https://localhost:8080/",
          "height": 308
        },
        "outputId": "fff4e0be-2ec3-4599-92cc-0159d7a858bd"
      },
      "source": [
        "in_d = s1.shape[-1]\n",
        "out_d = in_d\n",
        "hidden_d = 8\n",
        "num_hidden = 1\n",
        "rnn = MyRnn(in_d, out_d, hidden_d, num_hidden)\n",
        "loss = []\n",
        "criterion = nn.MSELoss()\n",
        "opt = torch.optim.SGD(rnn.parameters(), lr=0.01)\n",
        "n_epochs = 1000\n",
        "for e in trange(n_epochs):\n",
        "  for s in sequences:\n",
        "    pred, _ = rnn(s[:-1,...], torch.zeros(num_hidden, 1, hidden_d, dtype=torch.float))  # predict next step, init hidden state to zero at the begining of the sequence\n",
        "    err = criterion(pred, s[1:, ...])  # predict next step for each step\n",
        "    opt.zero_grad()\n",
        "    err.backward()\n",
        "    opt.step()\n",
        "    loss.append(err.item())\n",
        "plt.plot(loss)\n",
        "plt.ylabel('Loss')\n",
        "plt.xlabel('iteration')\n",
        "plt.show()"
      ],
      "execution_count": 52,
      "outputs": [
        {
          "output_type": "stream",
          "text": [
            "100%|██████████| 1000/1000 [00:04<00:00, 222.76it/s]\n"
          ],
          "name": "stderr"
        },
        {
          "output_type": "display_data",
          "data": {
            "image/png": "[encoded data removed]",
            "text/plain": [
              "<Figure size 432x288 with 1 Axes>"
            ]
          },
          "metadata": {
            "tags": []
          }
        }
      ]
    },
    {
      "cell_type": "markdown",
      "metadata": {
        "id": "usQyA5f0qxva",
        "colab_type": "text"
      },
      "source": [
        "Once the model is trained, we can predict"
      ]
    },
    {
      "cell_type": "code",
      "metadata": {
        "id": "B62e0phJq17y",
        "colab_type": "code",
        "colab": {
          "base_uri": "https://localhost:8080/",
          "height": 442
        },
        "outputId": "cf14033f-d0ec-47fb-8493-b873ae6317f0"
      },
      "source": [
        "rnn.eval()\n",
        "with torch.no_grad():\n",
        "  k = 5 \n",
        "  for si, s in enumerate(sequences):\n",
        "    pred, h = rnn(s[:k,...], torch.zeros(num_hidden, 1, hidden_d, dtype=torch.float))  # given first k steps predict the next one\n",
        "    print('seq {}, prev = {}  -> predicted {}th step = {}, actual step = {}'.format(si, s[k-1,...]*sig+mu, k, pred[-1, ...]*sig + mu, s[k, ...]*sig+mu))\n",
        "    prev = (torch.round(pred[-1:, ...]*sig + mu) - mu) / sig  # round the prediction, attmepting to avoid accumulation of error\n",
        "    # continue to predict \n",
        "    for j in  range(k+1, s.shape[0]):\n",
        "      pred, h = rnn(prev, h)\n",
        "      print('\\t\\tpredicted step {} (prev = {}) = {}, actual step = {}'.format(j, prev*sig+mu, pred[-1,...]*sig+mu, s[j, ...]*sig + mu))\n",
        "      prev = (torch.round(pred*sig + mu) - mu) / sig\n",
        "  print('\\n')"
      ],
      "execution_count": 54,
      "outputs": [
        {
          "output_type": "stream",
          "text": [
            "seq 0, prev = tensor([[ 4., 11.]])  -> predicted 5th step = tensor([[ 4.0771, 10.1999]]), actual step = tensor([[ 4., 10.]])\n",
            "\t\tpredicted step 6 (prev = tensor([[[ 4., 10.]]])) = tensor([[3.9769, 9.0732]]), actual step = tensor([[4., 9.]])\n",
            "\t\tpredicted step 7 (prev = tensor([[[4., 9.]]])) = tensor([[3.8712, 7.8533]]), actual step = tensor([[4., 8.]])\n",
            "\t\tpredicted step 8 (prev = tensor([[[4., 8.]]])) = tensor([[3.8472, 6.7704]]), actual step = tensor([[4., 7.]])\n",
            "\t\tpredicted step 9 (prev = tensor([[[4., 7.]]])) = tensor([[3.8449, 5.6945]]), actual step = tensor([[4., 6.]])\n",
            "\t\tpredicted step 10 (prev = tensor([[[4., 6.]]])) = tensor([[3.8923, 4.7349]]), actual step = tensor([[4., 5.]])\n",
            "\t\tpredicted step 11 (prev = tensor([[[4., 5.]]])) = tensor([[3.9541, 3.8596]]), actual step = tensor([[4., 4.]])\n",
            "\t\tpredicted step 12 (prev = tensor([[[4., 4.]]])) = tensor([[4.0380, 3.1076]]), actual step = tensor([[4., 3.]])\n",
            "\t\tpredicted step 13 (prev = tensor([[[4., 3.]]])) = tensor([[4.1276, 2.4655]]), actual step = tensor([[4., 2.]])\n",
            "seq 1, prev = tensor([[ 8., 15.]])  -> predicted 5th step = tensor([[ 8.9067, 15.1199]]), actual step = tensor([[ 9., 15.]])\n",
            "\t\tpredicted step 6 (prev = tensor([[[ 9., 15.]]])) = tensor([[10.0656, 14.9991]]), actual step = tensor([[10., 15.]])\n",
            "\t\tpredicted step 7 (prev = tensor([[[10., 15.]]])) = tensor([[10.8861, 14.6580]]), actual step = tensor([[11., 15.]])\n",
            "\t\tpredicted step 8 (prev = tensor([[[11., 15.]]])) = tensor([[11.5388, 14.4021]]), actual step = tensor([[12., 15.]])\n",
            "\t\tpredicted step 9 (prev = tensor([[[12., 14.]]])) = tensor([[12.1283, 13.3454]]), actual step = tensor([[12., 14.]])\n",
            "\t\tpredicted step 10 (prev = tensor([[[12., 13.]]])) = tensor([[12.2210, 12.2390]]), actual step = tensor([[12., 13.]])\n",
            "\t\tpredicted step 11 (prev = tensor([[[12., 12.]]])) = tensor([[12.2668, 11.0801]]), actual step = tensor([[12., 12.]])\n",
            "\t\tpredicted step 12 (prev = tensor([[[12., 11.]]])) = tensor([[12.2441,  9.9055]]), actual step = tensor([[12., 11.]])\n",
            "\t\tpredicted step 13 (prev = tensor([[[12., 10.]]])) = tensor([[12.1934,  8.8220]]), actual step = tensor([[12., 10.]])\n",
            "\t\tpredicted step 14 (prev = tensor([[[12.,  9.]]])) = tensor([[12.1091,  7.8355]]), actual step = tensor([[12.,  9.]])\n",
            "\t\tpredicted step 15 (prev = tensor([[[12.,  8.]]])) = tensor([[11.9976,  6.9561]]), actual step = tensor([[12.,  8.]])\n",
            "\t\tpredicted step 16 (prev = tensor([[[12.,  7.]]])) = tensor([[11.8582,  6.1653]]), actual step = tensor([[12.,  7.]])\n",
            "\t\tpredicted step 17 (prev = tensor([[[12.,  6.]]])) = tensor([[11.6896,  5.4444]]), actual step = tensor([[12.,  6.]])\n",
            "\t\tpredicted step 18 (prev = tensor([[[12.,  5.]]])) = tensor([[11.4893,  4.7755]]), actual step = tensor([[12.,  5.]])\n",
            "\n",
            "\n"
          ],
          "name": "stdout"
        }
      ]
    }
  ]
}